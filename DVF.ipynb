{
 "cells": [
  {
   "cell_type": "code",
   "execution_count": 1,
   "id": "31cf940e",
   "metadata": {},
   "outputs": [],
   "source": [
    "import pandas as pd\n",
    "import geopandas as gpd\n",
    "import matplotlib.pyplot as plt"
   ]
  },
  {
   "cell_type": "code",
   "execution_count": null,
   "id": "e9cea432",
   "metadata": {},
   "outputs": [],
   "source": [
    "# Charger les données\n",
    "url = \"https://cadastre.data.gouv.fr/data/etalab-dvf/latest/csv/2022/full.csv.gz\"\n",
    "df = pd.read_csv(url, compression='gzip', low_memory=False)"
   ]
  },
  {
   "cell_type": "code",
   "execution_count": null,
   "id": "1349aed4",
   "metadata": {},
   "outputs": [],
   "source": [
    "# Supprimer les lignes avec des valeurs manquantes dans les colonnes clés\n",
    "df = df.dropna(subset=['valeur_fonciere', 'surface_reelle_bati', 'nombre_pieces_principales'])"
   ]
  },
  {
   "cell_type": "code",
   "execution_count": null,
   "id": "da3e715d",
   "metadata": {},
   "outputs": [],
   "source": [
    "# Convertir les colonnes en types appropriés\n",
    "df['date_mutation'] = pd.to_datetime(df['date_mutation'], format='%Y-%m-%d')"
   ]
  },
  {
   "cell_type": "code",
   "execution_count": null,
   "id": "ab6ca29e",
   "metadata": {},
   "outputs": [],
   "source": [
    "df['prix_m2'] = df['valeur_fonciere'] / df['surface_reelle_bati']\n",
    "prix_moyen_departement = df.groupby('code_departement')['prix_m2'].mean()"
   ]
  },
  {
   "cell_type": "code",
   "execution_count": 2,
   "id": "2bd79ef8",
   "metadata": {},
   "outputs": [],
   "source": [
    "# Charger les données géographiques des départements français\n",
    "#url_geo = \"https://www.data.gouv.fr/fr/datasets/r/07b7c9a2-d1e2-4da6-9f20-01a7b72d4b12\"\n",
    "#gdf = gpd.read_file(url_geo)"
   ]
  },
  {
   "cell_type": "code",
   "execution_count": 3,
   "id": "c1f9d3a9",
   "metadata": {},
   "outputs": [],
   "source": [
    "# Fusionner les données géographiques avec les prix moyens\n",
    "#gdf = gdf.merge(prix_moyen_departement, left_on='code', right_index=True)"
   ]
  },
  {
   "cell_type": "code",
   "execution_count": null,
   "id": "83bedebc",
   "metadata": {},
   "outputs": [],
   "source": []
  },
  {
   "cell_type": "code",
   "execution_count": null,
   "id": "86c8ef68",
   "metadata": {},
   "outputs": [],
   "source": []
  }
 ],
 "metadata": {
  "kernelspec": {
   "display_name": "Python 3 (ipykernel)",
   "language": "python",
   "name": "python3"
  },
  "language_info": {
   "codemirror_mode": {
    "name": "ipython",
    "version": 3
   },
   "file_extension": ".py",
   "mimetype": "text/x-python",
   "name": "python",
   "nbconvert_exporter": "python",
   "pygments_lexer": "ipython3",
   "version": "3.9.16"
  }
 },
 "nbformat": 4,
 "nbformat_minor": 5
}
