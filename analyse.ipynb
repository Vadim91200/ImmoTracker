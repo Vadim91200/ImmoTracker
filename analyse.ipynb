{
 "cells": [
  {
   "cell_type": "markdown",
   "source": [
    "# Analyse des Valeurs foncieres\n",
    "Authors: Yannick LI (36%) - Stefan Radovanovic (30%) - Charles-Andre Goichot (34%)\n",
    "\n",
    "Comme conseillé lors de la pré-notation, nous sommes partis sur des choses simples avec la librairie plotly qui est très facile d'utilisation et nous avons alterner entre sa librairie bas niveau \"graph_object\" et haut niveau \"express\" (en grande partie express\"). La plus grosse difficulté du projet vient du nettoyage des données et de ce qu'elle représentent, car aucune documentation explicite n'existe concernant ce fichier, il a donc fallu tâtonner pour déterminer les colonnes les plus utiles pour les analyses. Un autre point de difficulté a été de trouver les idées d'analyses en effet n'étant pas très inspiré par le sujet nous avons eu du mal à élaborer des idées d'analyses pertinentes en un si petit laps de temps. Finalement, une dernière difficulté était de travailler avec des fichiers extrêmement volumineux, ce qui allonge les temps de chargement.\n",
    "\n",
    "Nous avons pris les remarques de la pré notation après 6 heures de Td très peu productif pour rebondir, nous avons evalué la repartition des taches de facon homogene : Stefan et Yannick s'occupent des graphiques et Charles-André de la vitrine avec Django et le framework css Bulma."
   ],
   "metadata": {
    "collapsed": false
   }
  },
  {
   "cell_type": "markdown",
   "source": [
    "## Import des librairies"
   ],
   "metadata": {
    "collapsed": false
   }
  },
  {
   "cell_type": "code",
   "execution_count": 126,
   "outputs": [],
   "source": [
    "import pandas as pd\n",
    "import geopandas as gpd\n",
    "import plotly.express as px\n",
    "import plotly.graph_objects as go\n",
    "import json\n",
    "from shapely.geometry import shape\n",
    "from plotly.subplots import make_subplots\n",
    "# decommenter si tu prefere les plot sur le navigateur\n",
    "# import plotly.io as pio\n",
    "# pio.renderers.default = \"browser\""
   ],
   "metadata": {
    "collapsed": false,
    "ExecuteTime": {
     "start_time": "2023-05-21T20:13:57.530558Z",
     "end_time": "2023-05-21T20:13:57.593241Z"
    }
   }
  },
  {
   "cell_type": "markdown",
   "source": [
    "## Chargement des donnes"
   ],
   "metadata": {
    "collapsed": false
   }
  },
  {
   "cell_type": "code",
   "execution_count": 127,
   "outputs": [],
   "source": [
    "\n",
    "url2022 = \"Data/valeursfoncieres-2022.txt\"\n",
    "url2019 = \"Data/valeursfoncieres-2019.txt\"\n",
    "df2022 = pd.read_csv(url2022, delimiter = '|', low_memory=False,decimal=\",\",date_format='%d/%m/%Y',parse_dates=['Date mutation'])\n",
    "df2019 = pd.read_csv(url2019, delimiter = '|', low_memory=False,decimal=\",\",date_format='%d/%m/%Y',parse_dates=['Date mutation'])\n",
    "fr_dep = gpd.read_file(\"./asset/france-departements.geojson\")\n",
    "fr_reg= gpd.read_file(\"./asset/france-regions.geojson\")\n",
    "with open('./asset/france_regions.json', 'r') as f:\n",
    "    fr_reg_code = json.load(f)\n",
    "with open('./asset/region_name.json', 'r') as f:\n",
    "    region_name = json.load(f)\n",
    "with open('./asset/departement_name.json', 'r') as f:\n",
    "    departement_name = json.load(f)\n"
   ],
   "metadata": {
    "collapsed": false,
    "ExecuteTime": {
     "start_time": "2023-05-21T20:13:57.549138Z",
     "end_time": "2023-05-21T20:14:22.685431Z"
    }
   }
  },
  {
   "cell_type": "markdown",
   "source": [
    "## Nettoyage des donnees"
   ],
   "metadata": {
    "collapsed": false
   }
  },
  {
   "cell_type": "code",
   "execution_count": 128,
   "metadata": {
    "ExecuteTime": {
     "start_time": "2023-05-21T20:14:22.698084Z",
     "end_time": "2023-05-21T20:14:28.703253Z"
    }
   },
   "outputs": [
    {
     "name": "stderr",
     "output_type": "stream",
     "text": [
      "C:\\Users\\Radovanovic\\AppData\\Local\\Temp\\ipykernel_4404\\407905361.py:4: SettingWithCopyWarning:\n",
      "\n",
      "\n",
      "A value is trying to be set on a copy of a slice from a DataFrame.\n",
      "Try using .loc[row_indexer,col_indexer] = value instead\n",
      "\n",
      "See the caveats in the documentation: https://pandas.pydata.org/pandas-docs/stable/user_guide/indexing.html#returning-a-view-versus-a-copy\n",
      "\n",
      "C:\\Users\\Radovanovic\\AppData\\Local\\Temp\\ipykernel_4404\\407905361.py:13: SettingWithCopyWarning:\n",
      "\n",
      "\n",
      "A value is trying to be set on a copy of a slice from a DataFrame.\n",
      "Try using .loc[row_indexer,col_indexer] = value instead\n",
      "\n",
      "See the caveats in the documentation: https://pandas.pydata.org/pandas-docs/stable/user_guide/indexing.html#returning-a-view-versus-a-copy\n",
      "\n",
      "C:\\Users\\Radovanovic\\AppData\\Local\\Temp\\ipykernel_4404\\407905361.py:14: SettingWithCopyWarning:\n",
      "\n",
      "\n",
      "A value is trying to be set on a copy of a slice from a DataFrame.\n",
      "Try using .loc[row_indexer,col_indexer] = value instead\n",
      "\n",
      "See the caveats in the documentation: https://pandas.pydata.org/pandas-docs/stable/user_guide/indexing.html#returning-a-view-versus-a-copy\n",
      "\n"
     ]
    }
   ],
   "source": [
    "#remove na and duplicates\n",
    "def clean(df):\n",
    "    df=df.dropna(subset=['Date mutation', 'Valeur fonciere', 'Surface reelle bati', 'Code departement'])\n",
    "    df['Surface terrain']=df['Surface terrain'].fillna(0)\n",
    "    df = df.drop(df[df['Surface reelle bati'] == 0].index)\n",
    "    return df.drop_duplicates(subset=['Date mutation','Nature mutation','Valeur fonciere','Type de voie','Code voie','Voie','Code postal','Commune','Code departement','Code departement','Code commune'])\n",
    "df2022=clean(df2022)\n",
    "df2019=clean(df2019)\n",
    "# filtrage sur les appartements et maisons\n",
    "biens2022=df2022[df2022['Type local'].str.contains(\"Appartement|Maison\")]\n",
    "biens2019=df2019[df2019['Type local'].str.contains(\"Appartement|Maison\")]\n",
    "#ajout des codes regions\n",
    "biens2022.loc[:,'Code region'] = biens2022['Code departement'].apply(lambda x: fr_reg_code[x])\n",
    "biens2019.loc[:,'Code region'] = biens2019['Code departement'].apply(lambda x: fr_reg_code[x])"
   ]
  },
  {
   "cell_type": "markdown",
   "source": [
    "## Analyses sur l'annee 2022"
   ],
   "metadata": {
    "collapsed": false
   }
  },
  {
   "cell_type": "code",
   "execution_count": 129,
   "metadata": {
    "ExecuteTime": {
     "start_time": "2023-05-21T20:14:28.703253Z",
     "end_time": "2023-05-21T20:14:29.482988Z"
    }
   },
   "outputs": [
    {
     "name": "stderr",
     "output_type": "stream",
     "text": [
      "C:\\Users\\Radovanovic\\AppData\\Local\\Temp\\ipykernel_4404\\62066331.py:2: SettingWithCopyWarning:\n",
      "\n",
      "\n",
      "A value is trying to be set on a copy of a slice from a DataFrame.\n",
      "Try using .loc[row_indexer,col_indexer] = value instead\n",
      "\n",
      "See the caveats in the documentation: https://pandas.pydata.org/pandas-docs/stable/user_guide/indexing.html#returning-a-view-versus-a-copy\n",
      "\n"
     ]
    }
   ],
   "source": [
    "#calcul m2 moyen par departement\n",
    "biens2022.loc[:,'m2'] = biens2022['Valeur fonciere'] / (biens2022['Surface terrain']+biens2022['Surface reelle bati'])\n",
    "mean_m2_dep=biens2022.groupby('Code departement')['m2'].mean().reset_index().rename(columns={'Code departement':'code'})\n",
    "t = fr_dep.merge(mean_m2_dep, on='code')\n",
    "# centre de la France\n",
    "center_lat = 46.603354\n",
    "center_lon = 1.888334\n",
    "\n",
    "fig = px.choropleth_mapbox(t, geojson=fr_dep, locations='code', color='m2',\n",
    "                           color_continuous_scale=\"ylgnbu\",\n",
    "                           range_color=(0,25000),\n",
    "                           title='prix du m2 moyen par departement',\n",
    "                           mapbox_style=\"carto-positron\",\n",
    "                           featureidkey=\"properties.code\",\n",
    "                           zoom=4, center = {\"lat\": center_lat, \"lon\": center_lon},\n",
    "                           opacity=1,\n",
    "                           hover_data=['nom','m2','code'],\n",
    "                           labels={'m2':'prix m2 moyen','code':'code departement', 'nom':'departement'})\n",
    "fig.update_layout(margin={\"r\":0,\"t\":40,\"l\":0,\"b\":0})\n",
    "fig.show()"
   ]
  },
  {
   "cell_type": "code",
   "execution_count": 130,
   "metadata": {
    "ExecuteTime": {
     "start_time": "2023-05-21T20:14:29.461989Z",
     "end_time": "2023-05-21T20:14:29.698065Z"
    }
   },
   "outputs": [],
   "source": [
    "mean_s_reg=biens2022.groupby('Code region')['Surface terrain'].mean().reset_index().rename(columns={'Code region':'code'})\n",
    "m = fr_reg.merge(mean_s_reg, on='code').sort_values('Surface terrain', ascending=False)\n",
    "#calcul de la position du centre de la region\n",
    "m['centroid']=m['geometry'].apply(lambda x:[shape(x).centroid])\n",
    "m['Text'] = m['nom'] + ' - Surface Terrain: ' + m['Surface terrain'].astype(str) + ' m2'\n",
    "\n",
    "fig = go.Figure()\n",
    "limits = [(0,500),(501,600),(601,700),(701,1000),(1001,3000)]\n",
    "colors =[\"#5fad56\",\"#f2c14e\",\"#f78154\",\"#4d9078\",\"#b4436c\"]\n",
    "for i in range(len(limits)):\n",
    "    lim=limits[i]\n",
    "    m_sub = m[(m['Surface terrain']>=lim[0]) & (m['Surface terrain']<=lim[1])]\n",
    "    fig.add_trace(go.Scattergeo(\n",
    "        lat = m_sub['centroid'].apply(lambda x: x[0].y),\n",
    "        lon = m_sub['centroid'].apply(lambda x: x[0].x),\n",
    "        text = m_sub['Text'],\n",
    "        featureidkey='properties.code',\n",
    "        marker = dict(\n",
    "            size = m_sub['Surface terrain'],\n",
    "            color = colors[i],\n",
    "            line_color='rgb(40,40,40)',\n",
    "            line_width=0.5,\n",
    "            sizemode = 'area',\n",
    "        ),\n",
    "        name = '{0} - {1}'.format(lim[0],lim[1])))\n",
    "\n",
    "fig.update_geos(\n",
    "    center=dict(lon=2, lat=46),\n",
    "    projection_scale=12,\n",
    "    projection_type=\"natural earth\",\n",
    "    landcolor = 'rgb(217, 217, 217)'\n",
    ")\n",
    "fig.update_layout(\n",
    "    title_text = 'Surface moyenne des biens vendus par region en 2022',\n",
    "    showlegend = True,\n",
    "    margin={\"r\":0,\"t\":50,\"l\":0,\"b\":0},\n",
    ")\n",
    "fig.show()"
   ]
  },
  {
   "cell_type": "code",
   "execution_count": 131,
   "metadata": {
    "ExecuteTime": {
     "start_time": "2023-05-21T20:14:29.699076Z",
     "end_time": "2023-05-21T20:14:29.963349Z"
    }
   },
   "outputs": [],
   "source": [
    "mean_vf_reg=biens2022.groupby('Code region')['Valeur fonciere'].mean().reset_index().rename(columns={'Code region':'code'}).merge( fr_reg, on='code')\n",
    "fig = px.box(mean_vf_reg, y=\"Valeur fonciere\",title='Valeur fonciere moyenne par region',points='all',labels={'nom':'Region','code':'Code region','Valeur fonciere':'Valeur fonciere'},hover_data=['nom','Valeur fonciere','code'])\n",
    "fig.show()"
   ]
  },
  {
   "cell_type": "code",
   "execution_count": 132,
   "metadata": {
    "ExecuteTime": {
     "start_time": "2023-05-21T20:14:29.966347Z",
     "end_time": "2023-05-21T20:14:30.223857Z"
    }
   },
   "outputs": [],
   "source": [
    "corse=biens2022[(biens2022['Code departement']=='2A') | (biens2022['Code departement']=='2B') ]\n",
    "fig = px.scatter(corse, x=\"Surface reelle bati\", y=\"Valeur fonciere\", symbol='Type local', color='Code departement',\n",
    "                 size='Nombre pieces principales', title='Valeur fonciere par rapport a la surface batie en Corse')\n",
    "fig.show()"
   ]
  },
  {
   "cell_type": "code",
   "execution_count": 133,
   "metadata": {
    "ExecuteTime": {
     "start_time": "2023-05-21T20:14:30.325078Z",
     "end_time": "2023-05-21T20:14:31.875111Z"
    }
   },
   "outputs": [],
   "source": [
    "ultramarin=biens2022[(biens2022['Code region']=='01')|(biens2022['Code region']=='02')|(biens2022['Code region']=='03')|(biens2022['Code region']=='04')]\n",
    "departement_ultramarin=['Guadeloupe','Martinique','Guyane','La Reunion']\n",
    "ultramarin.loc[:,'Code region'] = ultramarin['Code region'].map(lambda x: departement_ultramarin[int(x) - 1])\n",
    "\n",
    "fig = px.histogram(ultramarin, x=\"Date mutation\", y=\"Valeur fonciere\", color=\"Type local\",\n",
    "                   marginal=\"box\", title='ventes de biens sur territoire ultramarin',\n",
    "                   hover_data=ultramarin.columns)\n",
    "fig.show()"
   ]
  },
  {
   "cell_type": "code",
   "execution_count": 134,
   "metadata": {
    "ExecuteTime": {
     "start_time": "2023-05-21T20:14:31.879115Z",
     "end_time": "2023-05-21T20:14:32.046172Z"
    }
   },
   "outputs": [],
   "source": [
    "ultramarine=ultramarin.groupby('Code region')['Valeur fonciere'].mean()\n",
    "fig = make_subplots(rows=2, cols=2)\n",
    "fig.add_trace(go.Histogram(histfunc=\"avg\", y=ultramarin['Valeur fonciere'], x=ultramarin['Code region'], name=\"Valeur fonciere\"),1,1)\n",
    "fig.add_trace(go.Histogram(histfunc=\"avg\", y=ultramarin['Nombre pieces principales'], x=ultramarin['Code region'], name=\"Nombre pieces principales\"),1,2)\n",
    "fig.add_trace(go.Histogram(histfunc=\"avg\", y=ultramarin['Surface reelle bati'], x=ultramarin['Code region'], name=\"Surface reelle bati\"),2,1)\n",
    "fig.add_trace(go.Histogram(histfunc=\"avg\", y=ultramarin['Surface terrain'], x=ultramarin['Code region'], name=\"Surface terrain\"),2,2)\n",
    "fig.add_trace(go.Scatter(x=[None], y=[None], mode='text',\n",
    "                         showlegend=True, legendgroup='Additional', name='Code region'), row=1, col=1)\n",
    "\n",
    "fig.update_layout(\n",
    "    title='Donnees moyennes des territoires ultramarins',\n",
    "    xaxis=dict(title='Valeurs foncières'),\n",
    "    xaxis2=dict(title='Nombre de pièces'),\n",
    "    xaxis3=dict(title='Surface du terrain'),\n",
    "    xaxis4=dict(title='Surface réelle bâtie'),\n",
    "    showlegend=True,\n",
    "    legend=dict(x=1.05, y=0.5)\n",
    ")\n",
    "fig.show()"
   ]
  },
  {
   "cell_type": "code",
   "execution_count": 135,
   "metadata": {
    "ExecuteTime": {
     "start_time": "2023-05-21T20:14:32.049182Z",
     "end_time": "2023-05-21T20:14:32.260161Z"
    }
   },
   "outputs": [],
   "source": [
    "paris2022=biens2022[(biens2022['Code departement']=='75')].sort_values(by=['Valeur fonciere','Type local'])\n",
    "commune_paris2022 = paris2022.groupby('Commune').agg({'Valeur fonciere':'sum', 'm2':'count'}).rename(columns={'Valeur fonciere': 'Somme des valeurs foncieres', 'm2': 'Nombres de biens vendus'}).reset_index()\n",
    "fig = px.bar(commune_paris2022, y=\"Somme des valeurs foncieres\", x=\"Commune\",title='Nombre de biens vendus par arrondissement',text='Nombres de biens vendus')\n",
    "fig.show()"
   ]
  },
  {
   "cell_type": "code",
   "execution_count": 136,
   "metadata": {
    "ExecuteTime": {
     "start_time": "2023-05-21T20:14:32.263402Z",
     "end_time": "2023-05-21T20:14:32.497787Z"
    }
   },
   "outputs": [],
   "source": [
    "paris2022=paris2022.sort_values('Nombre pieces principales')\n",
    "fig = px.bar(paris2022, y=\"Surface terrain\", x=\"Type local\",color='Nombre pieces principales',title='Distribution des ventes de biens a Paris')\n",
    "fig.show()"
   ]
  },
  {
   "cell_type": "code",
   "execution_count": 137,
   "metadata": {
    "ExecuteTime": {
     "start_time": "2023-05-21T20:14:32.548324Z",
     "end_time": "2023-05-21T20:14:32.801825Z"
    }
   },
   "outputs": [],
   "source": [
    "idfbyday=biens2022[(biens2022['Code region']=='11')].groupby(['Date mutation','Code departement']).agg({'m2':'mean'}).reset_index().dropna().sort_values(by=['Date mutation'])\n",
    "fig = px.line(idfbyday, x=\"Date mutation\", y=\"m2\",title='evolution du prix moyen au m2 en 2022 en idf par departement',color='Code departement')\n",
    "fig.show()"
   ]
  },
  {
   "cell_type": "code",
   "execution_count": 138,
   "metadata": {
    "ExecuteTime": {
     "start_time": "2023-05-21T20:14:32.808299Z",
     "end_time": "2023-05-21T20:14:33.042514Z"
    }
   },
   "outputs": [],
   "source": [
    "center_points=fr_dep.rename(columns={'code':'Code departement'})\n",
    "#centre departement\n",
    "center_points['centroid'] = center_points['geometry'].apply(lambda x:shape(x).centroid)\n",
    "heated_data=biens2022.groupby('Code departement')['Valeur fonciere'].mean().reset_index()\n",
    "heated_data=center_points.merge(heated_data,on='Code departement')\n",
    "fig = go.Figure(go.Densitymapbox(lat=heated_data['centroid'].apply(lambda x: x.y), lon=heated_data['centroid'].apply(lambda x: x.x), z=heated_data['Valeur fonciere'],radius=10))\n",
    "\n",
    "fig.update_traces(\n",
    "    colorscale='Viridis',\n",
    "    opacity=0.8,\n",
    "    zmin=0,\n",
    "    zmax=1000000\n",
    ")\n",
    "fig.update_layout(mapbox_style=\"stamen-terrain\", mapbox_center_lon=center_lon,mapbox_center_lat=center_lat,mapbox_zoom=4)\n",
    "fig.update_layout(margin={\"r\":0,\"t\":50,\"l\":0,\"b\":0},title='Valeur fonciere moyenne par departement ')\n",
    "fig.show()"
   ]
  },
  {
   "cell_type": "code",
   "execution_count": 139,
   "metadata": {
    "ExecuteTime": {
     "start_time": "2023-05-21T20:14:33.044515Z",
     "end_time": "2023-05-21T20:14:33.271737Z"
    }
   },
   "outputs": [],
   "source": [
    "ca=biens2022[(biens2022['Code departement']=='22')]\n",
    "fig = px.scatter_3d(ca, x='m2', y='Surface reelle bati', z='Surface terrain', title='Visualisation des m2 par rapports aux surfaces de terrain et baties',color='Type local')\n",
    "fig.show()"
   ]
  },
  {
   "cell_type": "code",
   "execution_count": 140,
   "metadata": {
    "ExecuteTime": {
     "start_time": "2023-05-21T20:14:33.278733Z",
     "end_time": "2023-05-21T20:14:33.516480Z"
    }
   },
   "outputs": [],
   "source": [
    "fig = go.Figure(data=go.Heatmap(\n",
    "        z=ca['Valeur fonciere'],\n",
    "        x=ca['Date mutation'],\n",
    "        y=ca['Nombre pieces principales'],\n",
    "        colorscale='Viridis'))\n",
    "fig.update_layout(\n",
    "    title='Distribution des ventes de bien en cotes d\\'armor en 2022',\n",
    "    xaxis_title='Date mutation',\n",
    "    yaxis_title='Nombre de pieces principales'\n",
    ")\n",
    "fig.show()"
   ]
  },
  {
   "cell_type": "code",
   "execution_count": 141,
   "metadata": {
    "ExecuteTime": {
     "start_time": "2023-05-21T20:14:34.102624Z",
     "end_time": "2023-05-21T20:14:34.766948Z"
    }
   },
   "outputs": [
    {
     "name": "stderr",
     "output_type": "stream",
     "text": [
      "C:\\Users\\Radovanovic\\AppData\\Local\\Temp\\ipykernel_4404\\4011810930.py:10: SettingWithCopyWarning:\n",
      "\n",
      "\n",
      "A value is trying to be set on a copy of a slice from a DataFrame.\n",
      "Try using .loc[row_indexer,col_indexer] = value instead\n",
      "\n",
      "See the caveats in the documentation: https://pandas.pydata.org/pandas-docs/stable/user_guide/indexing.html#returning-a-view-versus-a-copy\n",
      "\n"
     ]
    }
   ],
   "source": [
    "df_paris_marseille_lyon = df2022[\n",
    "    df2022['Type local'].isin(['Appartement', 'Maison']) &\n",
    "    df2022['Code postal'].astype(str).str.startswith(('750', '1300', '1301', '690')) &\n",
    "    df2022['Code departement'].isin(['75', '13', '69'])]\n",
    "\n",
    "df_paris_marseille_lyon.loc[:, 'Code departement'] = df_paris_marseille_lyon['Code departement']\\\n",
    "    .replace('75', 'Paris').replace('13', 'Marseille').replace('69', 'Lyon')\n",
    "\n",
    "\n",
    "df_paris_marseille_lyon.loc[:, 'Surface carrez total'] = df_paris_marseille_lyon[\n",
    "    ['Surface Carrez du 1er lot',\n",
    "     'Surface Carrez du 2eme lot',\n",
    "     'Surface Carrez du 3eme lot',\n",
    "     'Surface Carrez du 4eme lot',\n",
    "     'Surface Carrez du 5eme lot']].sum(axis=1)\n",
    "\n",
    "moy_df = df_paris_marseille_lyon.groupby(['Code departement', 'Commune'])['Surface carrez total'].mean().reset_index()\n",
    "# moy_df.loc[:, 'to sort'] = moy_df['Commune'].apply(lambda x: x.replace('EME', '').replace('ER', ''))\\n\",\n",
    "# moy_df[['str', 'num']] = moy_df['to sort'].str.split(' ', expand=True)\n",
    "# moy_df['num'] = moy_df['num'].astype(float)\n",
    "# moy_df.sort_values(['str', 'num'], inplace=True)\n",
    "\n",
    "moy_df.rename(columns={'Surface carrez total': 'Surface carrez moy'}, inplace=True)\n",
    "\n",
    "\n",
    "fig = px.sunburst(moy_df,\n",
    "                  path=[px.Constant('Moyenne Totale'), 'Code departement', 'Commune'],\n",
    "                  values='Surface carrez moy',\n",
    "                  maxdepth=2,\n",
    "                  color='Surface carrez moy',\n",
    "                  title='Moyenne de surface habitable (Loi Carrez) en m^2 par arrondissement des villes de Paris, Marseille et Lyon (clickez sur les villes)')\n",
    "fig.show()\n"
   ]
  },
  {
   "cell_type": "code",
   "execution_count": 142,
   "metadata": {
    "ExecuteTime": {
     "start_time": "2023-05-21T20:14:34.760947Z",
     "end_time": "2023-05-21T20:14:36.824343Z"
    }
   },
   "outputs": [],
   "source": [
    "df_maison_appart_commerce = df2022[df2022['Type local'].isin(['Appartement', 'Maison', 'Local industriel. commercial ou assimilé'])]\n",
    "df_idf = df_maison_appart_commerce[df_maison_appart_commerce['Code departement'].map(fr_reg_code) == '11']\n",
    "df_bretagne = df_maison_appart_commerce[df_maison_appart_commerce['Code departement'].map(fr_reg_code) == '53']\n",
    "df_cote_azure = df_maison_appart_commerce[df_maison_appart_commerce['Code departement'].map(fr_reg_code) == '93']\n",
    "df_rhone_alpe = df_maison_appart_commerce[df_maison_appart_commerce['Code departement'].map(fr_reg_code) == '84']\n",
    "\n",
    "fig = make_subplots(rows=2, cols=2, specs=[[{'type': 'pie'}, {'type': 'pie'}], [{'type': 'pie'}, {'type': 'pie'}]],\n",
    "                    subplot_titles=['Ile de France',\n",
    "                                    'Bretagne',\n",
    "                                    'Provence-Alpes-Côte d\\'Azur',\n",
    "                                    'Auvergne-Rhône-Alpes'])\n",
    "fig.add_trace(go.Pie(labels=df_idf['Type local']), 1, 1)\n",
    "fig.add_trace(go.Pie(labels=df_bretagne['Type local']), 1, 2)\n",
    "fig.add_trace(go.Pie(labels=df_cote_azure['Type local']), 2, 1)\n",
    "fig.add_trace(go.Pie(labels=df_rhone_alpe['Type local']), 2, 2)\n",
    "\n",
    "# fig = px.pie(df_maison_appart_commerce, names='Type local', title='Proportion des ventes par catégorie de bien en Ile de France')\n",
    "fig.update_layout(title='Proportion des ventes par catégorie de bien dans 4 différentes region de France')\n",
    "\n",
    "fig.show()"
   ]
  },
  {
   "cell_type": "code",
   "execution_count": 143,
   "metadata": {
    "ExecuteTime": {
     "start_time": "2023-05-21T20:14:36.827973Z",
     "end_time": "2023-05-21T20:14:39.230020Z"
    }
   },
   "outputs": [],
   "source": [
    "# Debut de l'etude des bien entre 0 et 1 millions d'euros\n",
    "with open('./asset/region_name.json', 'r') as f:\n",
    "    region_name = json.load(f)\n",
    "with open('./asset/departement_name.json', 'r') as f:\n",
    "    departement_name = json.load(f)\n",
    "\n",
    "df_filtre = df2022.copy()\n",
    "df_filtre = df_filtre[df_filtre['Type local'].isin(['Appartement', 'Maison'])]\n",
    "df_filtre = df_filtre[(df_filtre['Valeur fonciere'] > 0) & (df_filtre['Valeur fonciere'] <= 1000000)]\n",
    "\n",
    "df_filtre.loc[:,'Code region'] = df_filtre['Code departement'].map(fr_reg_code)\n",
    "df_filtre = df_filtre[~df_filtre['Code region'].isin(['01', '02', '03', '04', '05', '06', '94'])]\n",
    "df_filtre['Code region'] = df_filtre['Code region'].map(region_name).str.encode('iso-8859-1')\n",
    "df_filtre['Code region'] = df_filtre['Code region'].astype(str)\n",
    "\n",
    "df_filtre['Code departement'] = df_filtre['Code departement'].map(departement_name).str.encode('iso-8859-1')"
   ]
  },
  {
   "cell_type": "code",
   "execution_count": 144,
   "outputs": [],
   "source": [
    "df_grouped = df_filtre.groupby(['Code region', 'Code departement', 'Commune', 'Code postal', 'Code voie', 'Voie']).first()\n",
    "df_moy = df_grouped.groupby(['Code region', 'Code departement'])['Valeur fonciere'].mean().reset_index()\n",
    "\n",
    "fig = px.icicle(df_moy,\n",
    "                path=[px.Constant('Total moyenne'), 'Code region', 'Code departement'],\n",
    "                values='Valeur fonciere',\n",
    "                color='Valeur fonciere',\n",
    "                maxdepth=2,\n",
    "                title='Icicle diagram: Valeur moyenne des valeurs foncière à différents niveaux des biens entre 0 et 1 millions d\\'euros (clickez sur les regions)')\n",
    "\n",
    "\n",
    "fig.show()"
   ],
   "metadata": {
    "collapsed": false,
    "ExecuteTime": {
     "start_time": "2023-05-21T20:14:39.233046Z",
     "end_time": "2023-05-21T20:14:41.457628Z"
    }
   }
  },
  {
   "cell_type": "code",
   "execution_count": 145,
   "outputs": [],
   "source": [
    "df_date = df_filtre.copy(deep=True)['Date mutation'].to_frame()\n",
    "df_date.loc[:,'Mois'] = df_date['Date mutation'].dt.month\n",
    "df_date.loc[:,'Jours'] = df_date['Date mutation'].dt.day\n",
    "mois_dict = {\n",
    "    1: \"Janvier\",\n",
    "    2: \"Février\",\n",
    "    3: \"Mars\",\n",
    "    4: \"Avril\",\n",
    "    5: \"Mai\",\n",
    "    6: \"Juin\",\n",
    "    7: \"Juillet\",\n",
    "    8: \"Août\",\n",
    "    9: \"Septembre\",\n",
    "    10: \"Octobre\",\n",
    "    11: \"Novembre\",\n",
    "    12: \"Décembre\"\n",
    "}\n",
    "df_date.loc[:, 'Mois'] = df_date['Mois'].map(mois_dict)\n",
    "df_date_groupby = df_date.groupby(['Mois', 'Jours']).count().reset_index().rename(columns={'Date mutation': 'Total'})\n",
    "fig = px.sunburst(df_date_groupby,\n",
    "                  path=[px.Constant('Total'), 'Mois', 'Jours'],\n",
    "                  values='Total',\n",
    "                  color='Total',\n",
    "                  maxdepth=2,\n",
    "                  title='Repartion des ventes de maison et d\\'appartement entre 0 et 1 millions d\\'euros durant l\\'année 2022')\n",
    "fig.show()"
   ],
   "metadata": {
    "collapsed": false,
    "ExecuteTime": {
     "start_time": "2023-05-21T20:14:41.466632Z",
     "end_time": "2023-05-21T20:14:42.523957Z"
    }
   }
  },
  {
   "cell_type": "code",
   "execution_count": 146,
   "outputs": [
    {
     "name": "stderr",
     "output_type": "stream",
     "text": [
      "C:\\Users\\Radovanovic\\AppData\\Local\\Temp\\ipykernel_4404\\2671247011.py:2: SettingWithCopyWarning:\n",
      "\n",
      "\n",
      "A value is trying to be set on a copy of a slice from a DataFrame.\n",
      "Try using .loc[row_indexer,col_indexer] = value instead\n",
      "\n",
      "See the caveats in the documentation: https://pandas.pydata.org/pandas-docs/stable/user_guide/indexing.html#returning-a-view-versus-a-copy\n",
      "\n",
      "C:\\Users\\Radovanovic\\AppData\\Local\\Temp\\ipykernel_4404\\2671247011.py:3: SettingWithCopyWarning:\n",
      "\n",
      "\n",
      "A value is trying to be set on a copy of a slice from a DataFrame.\n",
      "Try using .loc[row_indexer,col_indexer] = value instead\n",
      "\n",
      "See the caveats in the documentation: https://pandas.pydata.org/pandas-docs/stable/user_guide/indexing.html#returning-a-view-versus-a-copy\n",
      "\n"
     ]
    }
   ],
   "source": [
    "df_region = df_filtre[['Code region', 'Type local']]\n",
    "df_region.loc[:, 'Maison'] = df_region['Type local'] == 'Maison'\n",
    "df_region.loc[:, 'Appartement'] = df_region['Type local'] == 'Appartement'\n",
    "\n",
    "df_region_groupby = df_region.groupby(['Code region']).agg({'Maison':'sum', 'Appartement':'sum'}).reset_index()\n",
    "\n",
    "df_region_groupby.loc[:,'Total'] = df_region_groupby['Maison'] + df_region_groupby['Appartement']\n",
    "df_region_groupby = df_region_groupby.sort_values('Total')\n",
    "\n",
    "fig = px.bar(df_region_groupby, x=['Maison', 'Appartement'], y='Code region', orientation='h',\n",
    "             title='Classement des vente de maison et d\\'appartement entre 0 et 1 millions d\\'euros pour chaque region de la france')\n",
    "fig.show()"
   ],
   "metadata": {
    "collapsed": false,
    "ExecuteTime": {
     "start_time": "2023-05-21T20:14:42.527960Z",
     "end_time": "2023-05-21T20:14:42.894679Z"
    }
   }
  },
  {
   "cell_type": "code",
   "execution_count": 147,
   "outputs": [],
   "source": [
    "df_valeur = df_filtre[['Code region', 'Valeur fonciere']]\n",
    "\n",
    "df_valeur_groupby = df_valeur.groupby(['Code region']).sum().reset_index()\n",
    "df_valeur_groupby = df_valeur_groupby.sort_values('Valeur fonciere')\n",
    "\n",
    "fig = make_subplots(rows=1, cols=2, specs=[[{'type': 'bar'}, {'type': 'pie'}]],\n",
    "                    subplot_titles=['Classement des dépenses foncieres',\n",
    "                                    'Repartition des dépenses foncieres'])\n",
    "\n",
    "fig.add_trace(go.Bar(\n",
    "    x=df_valeur_groupby['Valeur fonciere'],\n",
    "    y=df_valeur_groupby['Code region'],\n",
    "    orientation='h',\n",
    "    marker=dict(color=df_valeur_groupby['Valeur fonciere'])), 1, 1)\n",
    "\n",
    "fig.add_trace(go.Pie(labels=df_valeur_groupby['Code region'],\n",
    "                     values=df_valeur_groupby['Valeur fonciere'],\n",
    "                     textinfo='label+percent',\n",
    "                     marker=dict(colors=df_valeur_groupby['Valeur fonciere'])), 1, 2)\n",
    "fig.update_layout(\n",
    "    title='Etude des dépenses foncières pour les maisons et appartement entre 0 et 1 millions d\\'euros par Region',\n",
    "    showlegend=False,\n",
    ")\n",
    "\n",
    "fig.show()"
   ],
   "metadata": {
    "collapsed": false,
    "ExecuteTime": {
     "start_time": "2023-05-21T20:14:42.898651Z",
     "end_time": "2023-05-21T20:14:43.121164Z"
    }
   }
  },
  {
   "cell_type": "code",
   "execution_count": 148,
   "outputs": [],
   "source": [
    "carrez_col = ['Surface Carrez du 1er lot',\n",
    "     'Surface Carrez du 2eme lot',\n",
    "     'Surface Carrez du 3eme lot',\n",
    "     'Surface Carrez du 4eme lot',\n",
    "     'Surface Carrez du 5eme lot']\n",
    "\n",
    "\n",
    "df_proportion = df_filtre[['Nombre pieces principales', 'Surface reelle bati', *carrez_col]]\n",
    "df_proportion = df_proportion[(df_proportion['Nombre pieces principales'] <= 13) & (df_proportion['Nombre pieces principales'] > 0)]\n",
    "to_drop = df_proportion[(df_proportion[carrez_col].isnull()).all(axis=1)].index\n",
    "df_proportion.drop(to_drop, inplace=True)\n",
    "\n",
    "df_proportion.loc[:, 'Surface carrez total'] = df_proportion[carrez_col].sum(axis=1)\n",
    "\n",
    "df_proportion = df_proportion.drop(carrez_col, axis=1)\n",
    "df_proportion.loc[:,'Ratio'] =  df_proportion['Surface reelle bati'] / df_proportion['Surface carrez total']\n",
    "df_proportion = df_proportion.sort_values('Nombre pieces principales')\n",
    "\n",
    "df_proportion_grouped = df_proportion.groupby('Nombre pieces principales')\\\n",
    "    .agg({'Surface carrez total':'mean', 'Surface reelle bati':'mean', 'Ratio':'mean'}).reset_index()\n",
    "df_proportion_grouped = df_proportion_grouped.rename(columns={'Surface reelle bati': 'Surface reelle bati Moyenne', 'Surface carrez total': 'Surface carrez Moyenne'})\n",
    "\n",
    "\n",
    "fig = make_subplots(rows=1, cols=2,\n",
    "                    subplot_titles=['Evolution des surfaces habitable et bati selon le nombre de piece',\n",
    "                                    'Ratio surfaces bati/habitable selon le nombre de piece'])\n",
    "\n",
    "fig.add_trace(go.Scatter(\n",
    "    x=df_proportion_grouped['Nombre pieces principales'],\n",
    "    y=df_proportion_grouped['Surface carrez Moyenne'],\n",
    "    mode='lines+markers',\n",
    "    name='Surface carrez Moyenne'\n",
    "), row=1, col=1)\n",
    "\n",
    "fig.add_trace(go.Scatter(\n",
    "    x=df_proportion_grouped['Nombre pieces principales'],\n",
    "    y=df_proportion_grouped['Surface reelle bati Moyenne'],\n",
    "    mode='lines+markers',\n",
    "    name='Surface reelle bati Moyenne'\n",
    "), row=1, col=1)\n",
    "\n",
    "fig.add_trace(go.Scatter(\n",
    "    x=df_proportion_grouped['Nombre pieces principales'],\n",
    "    y=df_proportion_grouped['Ratio'],\n",
    "    mode='lines+markers',\n",
    "    name='Ratio'\n",
    "), row=1, col=2)\n",
    "\n",
    "fig.update_layout(\n",
    "    title='Etude des surfaces habitable (loi Carrez) et surfaces bati des maisons et appartement entre 0 et 1 millions d\\'euros'\n",
    ")\n",
    "\n",
    "fig.show()"
   ],
   "metadata": {
    "collapsed": false,
    "ExecuteTime": {
     "start_time": "2023-05-21T20:14:43.127167Z",
     "end_time": "2023-05-21T20:14:43.567602Z"
    }
   }
  },
  {
   "cell_type": "code",
   "execution_count": 149,
   "outputs": [],
   "source": [
    "df_piece = df_filtre[['Code region', 'Code departement', 'Commune', 'Nombre pieces principales']]\n",
    "\n",
    "\n",
    "def select_first_5(group):\n",
    "    if len(group) <= 5:\n",
    "        return group\n",
    "    else:\n",
    "        group = group.sort_values('Nombre pieces principales', ascending=False)\n",
    "        sum_row = group.iloc[5:].groupby(['Code region', 'Code departement'])[\n",
    "            'Nombre pieces principales'].mean().reset_index()\n",
    "        sum_row['Nombre pieces principales'] = sum_row['Nombre pieces principales'].round()\n",
    "        sum_row['Commune'] = 'Moyenne des autres'\n",
    "        return pd.concat([group.iloc[:5], sum_row]).reset_index(drop=True)\n",
    "\n",
    "\n",
    "df_piece_groupby = df_piece.groupby(['Code region', 'Code departement', 'Commune']) \\\n",
    "    .agg({'Nombre pieces principales': 'sum'}).reset_index() \\\n",
    "    .groupby(['Code region', 'Code departement']) \\\n",
    "    .apply(select_first_5).reset_index(drop=True)\n",
    "\n",
    "fig = px.treemap(df_piece_groupby,\n",
    "                 path=[px.Constant('Total'), 'Code region', 'Code departement', 'Commune'],\n",
    "                 values='Nombre pieces principales',\n",
    "                 maxdepth=2,\n",
    "                 color='Nombre pieces principales',\n",
    "                 title='Somme des pieces principales vendu par region, departement et les 5 premieres communes')\n",
    "fig.show()"
   ],
   "metadata": {
    "collapsed": false,
    "ExecuteTime": {
     "start_time": "2023-05-21T20:14:43.836469Z",
     "end_time": "2023-05-21T20:14:45.126509Z"
    }
   }
  },
  {
   "cell_type": "markdown",
   "source": [
    "## Analyse 2022-2019"
   ],
   "metadata": {
    "collapsed": false
   }
  },
  {
   "cell_type": "code",
   "execution_count": 150,
   "outputs": [
    {
     "name": "stderr",
     "output_type": "stream",
     "text": [
      "C:\\Users\\Radovanovic\\AppData\\Local\\Temp\\ipykernel_4404\\4073723462.py:2: SettingWithCopyWarning:\n",
      "\n",
      "\n",
      "A value is trying to be set on a copy of a slice from a DataFrame.\n",
      "Try using .loc[row_indexer,col_indexer] = value instead\n",
      "\n",
      "See the caveats in the documentation: https://pandas.pydata.org/pandas-docs/stable/user_guide/indexing.html#returning-a-view-versus-a-copy\n",
      "\n"
     ]
    }
   ],
   "source": [
    "#ajustement et fusion des dataframes 2019 et 2022\n",
    "biens2019.loc[:,'m2'] = biens2019['Valeur fonciere'] / (biens2019['Surface terrain']+biens2019['Surface reelle bati'])\n",
    "df2019_2022 = pd.concat([biens2019, biens2022], ignore_index=True)\n",
    "df2019_2022['Annee']=df2019_2022['Date mutation'].dt.year\n",
    "df2019_2022['Mois']=df2019_2022['Date mutation'].dt.month\n",
    "df2019_2022['Jour']=df2019_2022['Date mutation'].dt.day\n",
    "\n",
    "overview=df2019_2022.groupby('Annee').agg({'Valeur fonciere':'sum','Date mutation':'count','Surface reelle bati':'sum','m2':'mean'}).reset_index()\n",
    "overview\n",
    "\n",
    "fig = make_subplots(rows=2, cols=2)\n",
    "\n",
    "fig.add_trace(go.Bar(\n",
    "    x=overview['Annee'],\n",
    "    y=overview['Valeur fonciere'],\n",
    "    name='Total des valeurs foncieres'),\n",
    "    row=1,col=1\n",
    ")\n",
    "\n",
    "\n",
    "fig.add_trace(go.Bar(\n",
    "    x=overview['Annee'],\n",
    "    y=overview['Date mutation'],\n",
    "    name='Nombre de ventes'),\n",
    "    row=1,col=2\n",
    ")\n",
    "fig.add_trace(go.Bar(\n",
    "    x=overview['Annee'],\n",
    "    y=overview['Surface reelle bati'],\n",
    "    name='Nombres de pieces principales moyennes'),\n",
    "    row=2,col=1\n",
    ")\n",
    "fig.add_trace(go.Bar(\n",
    "    x=overview['Annee'],\n",
    "    y=overview['m2'],\n",
    "    name='Prix moyen au m2'),\n",
    "    row=2,col=2\n",
    ")\n",
    "\n",
    "\n",
    "\n",
    "fig.update_layout(hovermode=\"x unified\",title='Vue d\\'ensemble des valeurs foncieres entre 2019 et 2022')\n",
    "fig.show()"
   ],
   "metadata": {
    "collapsed": false,
    "ExecuteTime": {
     "start_time": "2023-05-21T20:14:45.127014Z",
     "end_time": "2023-05-21T20:14:47.066537Z"
    }
   }
  },
  {
   "cell_type": "code",
   "execution_count": 151,
   "outputs": [],
   "source": [
    "bydate=df2019_2022.groupby(['Mois','Annee']).agg({'Valeur fonciere':'sum'}).reset_index().sort_values(['Mois','Annee'],ascending=False)\n",
    "bydate['fake']=pd.to_datetime({'year': 2022, 'month': bydate['Mois'], 'day': 1})\n",
    "fig = px.line(bydate, x='fake', y='Valeur fonciere',hover_data=['fake', 'Valeur fonciere'], title='Somme journaliere des valeur foncieres', color='Annee')\n",
    "fig.update_xaxes(title='Date')\n",
    "fig.update_yaxes(title='Valeur fonciere')\n",
    "fig.update_traces(hovertemplate='')\n",
    "fig.show()"
   ],
   "metadata": {
    "collapsed": false,
    "ExecuteTime": {
     "start_time": "2023-05-21T20:14:47.129216Z",
     "end_time": "2023-05-21T20:14:47.560824Z"
    }
   }
  },
  {
   "cell_type": "code",
   "execution_count": 152,
   "outputs": [],
   "source": [
    "sum_vf_reg= df2019_2022.groupby(['Code region','Annee'])['Valeur fonciere'].sum().reset_index().rename(columns={'Code region':'code'}).merge( fr_reg, on='code')\n",
    "\n",
    "fig = px.box(sum_vf_reg, y=\"Valeur fonciere\",title='Total valeur fonciere par region',points='all',labels={'nom':'Region','code':'Code region','Valeur fonciere':'Valeur fonciere'},hover_data=['nom','Valeur fonciere','code'],color='Annee')\n",
    "fig.show()"
   ],
   "metadata": {
    "collapsed": false,
    "ExecuteTime": {
     "start_time": "2023-05-21T20:14:47.564828Z",
     "end_time": "2023-05-21T20:14:48.122524Z"
    }
   }
  },
  {
   "cell_type": "code",
   "execution_count": 153,
   "outputs": [],
   "source": [
    "compare_m2vf=df2019_2022.groupby(['Code departement','Annee']).agg({'Valeur fonciere':'mean','m2':'mean'}).reset_index()\n",
    "fig = go.Figure()\n",
    "\n",
    "fig.add_trace(go.Scatter(\n",
    "    x=compare_m2vf[compare_m2vf['Annee']==2019]['Valeur fonciere'],\n",
    "    y=compare_m2vf[compare_m2vf['Annee']==2019]['m2'],\n",
    "    mode='markers',\n",
    "    name='2019',\n",
    "    marker=dict(\n",
    "        symbol='x',\n",
    "        opacity=0.7,\n",
    "        color='white',\n",
    "        size=8,\n",
    "        line=dict(width=1),\n",
    "    )\n",
    "))\n",
    "fig.add_trace(go.Scatter(\n",
    "    x=compare_m2vf[compare_m2vf['Annee']==2022]['Valeur fonciere'],\n",
    "    y=compare_m2vf[compare_m2vf['Annee']==2022]['m2'],\n",
    "    mode='markers',\n",
    "    name='2022',\n",
    "    marker=dict(\n",
    "        symbol='circle',\n",
    "        opacity=0.7,\n",
    "        color='white',\n",
    "        size=8,\n",
    "        line=dict(width=1),\n",
    "    )\n",
    "))\n",
    "\n",
    "fig.add_trace(go.Histogram2d(\n",
    "    x=compare_m2vf['Valeur fonciere'],\n",
    "    y=compare_m2vf['m2'],\n",
    "    colorscale='YlGnBu',\n",
    "    showscale=False,\n",
    "    zmax=16,\n",
    "    nbinsx=14,\n",
    "    nbinsy=14,\n",
    "    zauto=False,\n",
    "    hovertemplate='Valeur fonciere moyenne: %{x}<br>Prix m2 moyen: %{y}<br>Nombre de departements: %{z}<extra></extra>'\n",
    "))\n",
    "fig.update_layout(\n",
    "    xaxis=dict( ticks='', showgrid=False, zeroline=False, nticks=20 ,title='Valeur fonciere'),\n",
    "    yaxis=dict( ticks='', showgrid=False, zeroline=False, nticks=20,title='prix/m2' ),\n",
    "    hovermode='closest',\n",
    "    title='Dispersion des valeurs foncieres moyenne de departement par rapport au m2'\n",
    ")\n",
    "fig.show()"
   ],
   "metadata": {
    "collapsed": false,
    "ExecuteTime": {
     "start_time": "2023-05-21T20:14:48.178277Z",
     "end_time": "2023-05-21T20:14:48.941122Z"
    }
   }
  },
  {
   "cell_type": "code",
   "execution_count": 154,
   "outputs": [],
   "source": [
    "compare_month=df2019_2022.groupby(['Code departement','Annee']).agg({'m2':'mean'}).reset_index()\n",
    "dep_diff=compare_month[compare_month['Annee']==2022]['Code departement'].reset_index().rename(columns={'Code departement':'code'})\n",
    "dep_diff['m2_diff']=compare_month[compare_month['Annee']==2022]['m2'].values-compare_month[compare_month['Annee']==2019]['m2'].values\n",
    "dep_diff = fr_dep.merge(dep_diff, on='code')\n",
    "fig = px.choropleth_mapbox(dep_diff, geojson=fr_dep, locations='code', color='m2_diff',\n",
    "                           color_continuous_scale=\"portland\",\n",
    "                           range_color=(-4100,2900),\n",
    "                           title='Difference des prix m2 entre 2019 et 2022',\n",
    "                           mapbox_style=\"carto-positron\",\n",
    "                           featureidkey=\"properties.code\",\n",
    "                           zoom=4, center = {\"lat\": center_lat, \"lon\": center_lon},\n",
    "                           opacity=1,\n",
    "                           hover_data=['nom','m2_diff','code'],\n",
    "                           labels={'m2_diff':'Augmentation du prix m2','code':'code departement', 'nom':'departement'})\n",
    "fig.update_layout(margin={\"r\":0,\"t\":40,\"l\":0,\"b\":0})\n",
    "fig.show()"
   ],
   "metadata": {
    "collapsed": false,
    "ExecuteTime": {
     "start_time": "2023-05-21T20:14:48.981135Z",
     "end_time": "2023-05-21T20:14:50.104648Z"
    }
   }
  }
 ],
 "metadata": {
  "kernelspec": {
   "display_name": "Python 3 (ipykernel)",
   "language": "python",
   "name": "python3"
  },
  "language_info": {
   "codemirror_mode": {
    "name": "ipython",
    "version": 3
   },
   "file_extension": ".py",
   "mimetype": "text/x-python",
   "name": "python",
   "nbconvert_exporter": "python",
   "pygments_lexer": "ipython3",
   "version": "3.11.0"
  }
 },
 "nbformat": 4,
 "nbformat_minor": 1
}
